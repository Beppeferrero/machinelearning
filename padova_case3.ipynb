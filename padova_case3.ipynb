{
 "cells": [
  {
   "cell_type": "markdown",
   "metadata": {},
   "source": [
    "# importo le librerie necessarie "
   ]
  },
  {
   "cell_type": "code",
   "execution_count": 2,
   "metadata": {},
   "outputs": [],
   "source": [
    "# lettura files\n",
    "\n",
    "import pandas as pd"
   ]
  },
  {
   "cell_type": "code",
   "execution_count": 3,
   "metadata": {},
   "outputs": [],
   "source": [
    "# machine learning\n",
    "\n",
    "from sklearn.linear_model import LinearRegression\n",
    "from sklearn.model_selection import train_test_split\n",
    "from sklearn import metrics"
   ]
  },
  {
   "cell_type": "code",
   "execution_count": 4,
   "metadata": {},
   "outputs": [],
   "source": [
    "# grafici\n",
    "\n",
    "import matplotlib.pyplot as plt\n",
    "import numpy as np\n",
    "import seaborn as sns"
   ]
  },
  {
   "cell_type": "code",
   "execution_count": 5,
   "metadata": {},
   "outputs": [
    {
     "name": "stdout",
     "output_type": "stream",
     "text": [
      "inserisci il nome del file excel (senza estensione xls) padova_case\n"
     ]
    }
   ],
   "source": [
    "nome_file=input(\"inserisci il nome del file excel (senza estensione xls) \")"
   ]
  },
  {
   "cell_type": "code",
   "execution_count": 6,
   "metadata": {},
   "outputs": [],
   "source": [
    "dati = pd.read_excel('C:/users/mazza/Desktop/cartella_csv/'+nome_file+'.xls')"
   ]
  },
  {
   "cell_type": "code",
   "execution_count": 8,
   "metadata": {},
   "outputs": [],
   "source": [
    "X = dati[['zona','mq','stanze','annoc','annor','mq_g','certifica','riscaldamento']]"
   ]
  },
  {
   "cell_type": "code",
   "execution_count": 9,
   "metadata": {},
   "outputs": [],
   "source": [
    "y = dati['prezzo']"
   ]
  },
  {
   "cell_type": "code",
   "execution_count": 10,
   "metadata": {},
   "outputs": [
    {
     "data": {
      "text/html": [
       "<div>\n",
       "<style scoped>\n",
       "    .dataframe tbody tr th:only-of-type {\n",
       "        vertical-align: middle;\n",
       "    }\n",
       "\n",
       "    .dataframe tbody tr th {\n",
       "        vertical-align: top;\n",
       "    }\n",
       "\n",
       "    .dataframe thead th {\n",
       "        text-align: right;\n",
       "    }\n",
       "</style>\n",
       "<table border=\"1\" class=\"dataframe\">\n",
       "  <thead>\n",
       "    <tr style=\"text-align: right;\">\n",
       "      <th></th>\n",
       "      <th>zona</th>\n",
       "      <th>mq</th>\n",
       "      <th>stanze</th>\n",
       "      <th>annoc</th>\n",
       "      <th>annor</th>\n",
       "      <th>mq_g</th>\n",
       "      <th>certifica</th>\n",
       "      <th>riscaldamento</th>\n",
       "    </tr>\n",
       "  </thead>\n",
       "  <tbody>\n",
       "    <tr>\n",
       "      <td>0</td>\n",
       "      <td>2</td>\n",
       "      <td>150</td>\n",
       "      <td>6</td>\n",
       "      <td>1980</td>\n",
       "      <td>2018</td>\n",
       "      <td>25</td>\n",
       "      <td>1</td>\n",
       "      <td>2</td>\n",
       "    </tr>\n",
       "    <tr>\n",
       "      <td>1</td>\n",
       "      <td>2</td>\n",
       "      <td>120</td>\n",
       "      <td>5</td>\n",
       "      <td>2000</td>\n",
       "      <td>2000</td>\n",
       "      <td>20</td>\n",
       "      <td>8</td>\n",
       "      <td>2</td>\n",
       "    </tr>\n",
       "    <tr>\n",
       "      <td>2</td>\n",
       "      <td>1</td>\n",
       "      <td>80</td>\n",
       "      <td>4</td>\n",
       "      <td>1998</td>\n",
       "      <td>1998</td>\n",
       "      <td>15</td>\n",
       "      <td>5</td>\n",
       "      <td>2</td>\n",
       "    </tr>\n",
       "    <tr>\n",
       "      <td>3</td>\n",
       "      <td>3</td>\n",
       "      <td>150</td>\n",
       "      <td>5</td>\n",
       "      <td>2015</td>\n",
       "      <td>2015</td>\n",
       "      <td>20</td>\n",
       "      <td>6</td>\n",
       "      <td>2</td>\n",
       "    </tr>\n",
       "    <tr>\n",
       "      <td>4</td>\n",
       "      <td>2</td>\n",
       "      <td>95</td>\n",
       "      <td>4</td>\n",
       "      <td>2000</td>\n",
       "      <td>2000</td>\n",
       "      <td>15</td>\n",
       "      <td>6</td>\n",
       "      <td>1</td>\n",
       "    </tr>\n",
       "    <tr>\n",
       "      <td>5</td>\n",
       "      <td>1</td>\n",
       "      <td>100</td>\n",
       "      <td>4</td>\n",
       "      <td>1950</td>\n",
       "      <td>1950</td>\n",
       "      <td>10</td>\n",
       "      <td>1</td>\n",
       "      <td>1</td>\n",
       "    </tr>\n",
       "    <tr>\n",
       "      <td>6</td>\n",
       "      <td>3</td>\n",
       "      <td>90</td>\n",
       "      <td>3</td>\n",
       "      <td>2000</td>\n",
       "      <td>2000</td>\n",
       "      <td>12</td>\n",
       "      <td>7</td>\n",
       "      <td>2</td>\n",
       "    </tr>\n",
       "    <tr>\n",
       "      <td>7</td>\n",
       "      <td>1</td>\n",
       "      <td>30</td>\n",
       "      <td>2</td>\n",
       "      <td>1998</td>\n",
       "      <td>1998</td>\n",
       "      <td>12</td>\n",
       "      <td>6</td>\n",
       "      <td>2</td>\n",
       "    </tr>\n",
       "    <tr>\n",
       "      <td>8</td>\n",
       "      <td>1</td>\n",
       "      <td>80</td>\n",
       "      <td>4</td>\n",
       "      <td>1998</td>\n",
       "      <td>1998</td>\n",
       "      <td>15</td>\n",
       "      <td>7</td>\n",
       "      <td>2</td>\n",
       "    </tr>\n",
       "    <tr>\n",
       "      <td>9</td>\n",
       "      <td>3</td>\n",
       "      <td>150</td>\n",
       "      <td>5</td>\n",
       "      <td>2015</td>\n",
       "      <td>2015</td>\n",
       "      <td>20</td>\n",
       "      <td>8</td>\n",
       "      <td>2</td>\n",
       "    </tr>\n",
       "    <tr>\n",
       "      <td>10</td>\n",
       "      <td>2</td>\n",
       "      <td>112</td>\n",
       "      <td>4</td>\n",
       "      <td>2000</td>\n",
       "      <td>2000</td>\n",
       "      <td>20</td>\n",
       "      <td>7</td>\n",
       "      <td>2</td>\n",
       "    </tr>\n",
       "    <tr>\n",
       "      <td>11</td>\n",
       "      <td>1</td>\n",
       "      <td>90</td>\n",
       "      <td>4</td>\n",
       "      <td>1970</td>\n",
       "      <td>2000</td>\n",
       "      <td>10</td>\n",
       "      <td>3</td>\n",
       "      <td>1</td>\n",
       "    </tr>\n",
       "    <tr>\n",
       "      <td>12</td>\n",
       "      <td>2</td>\n",
       "      <td>110</td>\n",
       "      <td>5</td>\n",
       "      <td>2000</td>\n",
       "      <td>2000</td>\n",
       "      <td>10</td>\n",
       "      <td>7</td>\n",
       "      <td>1</td>\n",
       "    </tr>\n",
       "    <tr>\n",
       "      <td>13</td>\n",
       "      <td>3</td>\n",
       "      <td>150</td>\n",
       "      <td>5</td>\n",
       "      <td>1990</td>\n",
       "      <td>1990</td>\n",
       "      <td>20</td>\n",
       "      <td>6</td>\n",
       "      <td>2</td>\n",
       "    </tr>\n",
       "    <tr>\n",
       "      <td>14</td>\n",
       "      <td>2</td>\n",
       "      <td>150</td>\n",
       "      <td>6</td>\n",
       "      <td>1980</td>\n",
       "      <td>2018</td>\n",
       "      <td>25</td>\n",
       "      <td>5</td>\n",
       "      <td>2</td>\n",
       "    </tr>\n",
       "    <tr>\n",
       "      <td>15</td>\n",
       "      <td>2</td>\n",
       "      <td>40</td>\n",
       "      <td>2</td>\n",
       "      <td>1960</td>\n",
       "      <td>2000</td>\n",
       "      <td>12</td>\n",
       "      <td>7</td>\n",
       "      <td>2</td>\n",
       "    </tr>\n",
       "    <tr>\n",
       "      <td>16</td>\n",
       "      <td>2</td>\n",
       "      <td>120</td>\n",
       "      <td>5</td>\n",
       "      <td>2000</td>\n",
       "      <td>2000</td>\n",
       "      <td>20</td>\n",
       "      <td>6</td>\n",
       "      <td>2</td>\n",
       "    </tr>\n",
       "    <tr>\n",
       "      <td>17</td>\n",
       "      <td>1</td>\n",
       "      <td>80</td>\n",
       "      <td>4</td>\n",
       "      <td>1998</td>\n",
       "      <td>1998</td>\n",
       "      <td>15</td>\n",
       "      <td>3</td>\n",
       "      <td>2</td>\n",
       "    </tr>\n",
       "    <tr>\n",
       "      <td>18</td>\n",
       "      <td>3</td>\n",
       "      <td>150</td>\n",
       "      <td>5</td>\n",
       "      <td>2015</td>\n",
       "      <td>2015</td>\n",
       "      <td>20</td>\n",
       "      <td>7</td>\n",
       "      <td>2</td>\n",
       "    </tr>\n",
       "    <tr>\n",
       "      <td>19</td>\n",
       "      <td>2</td>\n",
       "      <td>95</td>\n",
       "      <td>4</td>\n",
       "      <td>2000</td>\n",
       "      <td>2000</td>\n",
       "      <td>15</td>\n",
       "      <td>6</td>\n",
       "      <td>1</td>\n",
       "    </tr>\n",
       "    <tr>\n",
       "      <td>20</td>\n",
       "      <td>1</td>\n",
       "      <td>100</td>\n",
       "      <td>4</td>\n",
       "      <td>1950</td>\n",
       "      <td>1950</td>\n",
       "      <td>10</td>\n",
       "      <td>2</td>\n",
       "      <td>1</td>\n",
       "    </tr>\n",
       "    <tr>\n",
       "      <td>21</td>\n",
       "      <td>1</td>\n",
       "      <td>80</td>\n",
       "      <td>4</td>\n",
       "      <td>1998</td>\n",
       "      <td>1998</td>\n",
       "      <td>15</td>\n",
       "      <td>6</td>\n",
       "      <td>2</td>\n",
       "    </tr>\n",
       "    <tr>\n",
       "      <td>22</td>\n",
       "      <td>3</td>\n",
       "      <td>150</td>\n",
       "      <td>5</td>\n",
       "      <td>2015</td>\n",
       "      <td>2015</td>\n",
       "      <td>20</td>\n",
       "      <td>7</td>\n",
       "      <td>2</td>\n",
       "    </tr>\n",
       "    <tr>\n",
       "      <td>23</td>\n",
       "      <td>2</td>\n",
       "      <td>112</td>\n",
       "      <td>4</td>\n",
       "      <td>2000</td>\n",
       "      <td>2000</td>\n",
       "      <td>20</td>\n",
       "      <td>6</td>\n",
       "      <td>2</td>\n",
       "    </tr>\n",
       "    <tr>\n",
       "      <td>24</td>\n",
       "      <td>2</td>\n",
       "      <td>90</td>\n",
       "      <td>4</td>\n",
       "      <td>1970</td>\n",
       "      <td>2000</td>\n",
       "      <td>10</td>\n",
       "      <td>4</td>\n",
       "      <td>1</td>\n",
       "    </tr>\n",
       "    <tr>\n",
       "      <td>25</td>\n",
       "      <td>2</td>\n",
       "      <td>110</td>\n",
       "      <td>5</td>\n",
       "      <td>2000</td>\n",
       "      <td>2000</td>\n",
       "      <td>10</td>\n",
       "      <td>4</td>\n",
       "      <td>1</td>\n",
       "    </tr>\n",
       "    <tr>\n",
       "      <td>26</td>\n",
       "      <td>3</td>\n",
       "      <td>150</td>\n",
       "      <td>5</td>\n",
       "      <td>1990</td>\n",
       "      <td>1990</td>\n",
       "      <td>20</td>\n",
       "      <td>5</td>\n",
       "      <td>2</td>\n",
       "    </tr>\n",
       "  </tbody>\n",
       "</table>\n",
       "</div>"
      ],
      "text/plain": [
       "    zona   mq  stanze  annoc  annor  mq_g  certifica  riscaldamento\n",
       "0      2  150       6   1980   2018    25          1              2\n",
       "1      2  120       5   2000   2000    20          8              2\n",
       "2      1   80       4   1998   1998    15          5              2\n",
       "3      3  150       5   2015   2015    20          6              2\n",
       "4      2   95       4   2000   2000    15          6              1\n",
       "5      1  100       4   1950   1950    10          1              1\n",
       "6      3   90       3   2000   2000    12          7              2\n",
       "7      1   30       2   1998   1998    12          6              2\n",
       "8      1   80       4   1998   1998    15          7              2\n",
       "9      3  150       5   2015   2015    20          8              2\n",
       "10     2  112       4   2000   2000    20          7              2\n",
       "11     1   90       4   1970   2000    10          3              1\n",
       "12     2  110       5   2000   2000    10          7              1\n",
       "13     3  150       5   1990   1990    20          6              2\n",
       "14     2  150       6   1980   2018    25          5              2\n",
       "15     2   40       2   1960   2000    12          7              2\n",
       "16     2  120       5   2000   2000    20          6              2\n",
       "17     1   80       4   1998   1998    15          3              2\n",
       "18     3  150       5   2015   2015    20          7              2\n",
       "19     2   95       4   2000   2000    15          6              1\n",
       "20     1  100       4   1950   1950    10          2              1\n",
       "21     1   80       4   1998   1998    15          6              2\n",
       "22     3  150       5   2015   2015    20          7              2\n",
       "23     2  112       4   2000   2000    20          6              2\n",
       "24     2   90       4   1970   2000    10          4              1\n",
       "25     2  110       5   2000   2000    10          4              1\n",
       "26     3  150       5   1990   1990    20          5              2"
      ]
     },
     "execution_count": 10,
     "metadata": {},
     "output_type": "execute_result"
    }
   ],
   "source": [
    "X"
   ]
  },
  {
   "cell_type": "code",
   "execution_count": 11,
   "metadata": {},
   "outputs": [
    {
     "data": {
      "text/plain": [
       "0     130000\n",
       "1     118000\n",
       "2      95000\n",
       "3     195000\n",
       "4     100000\n",
       "5      75000\n",
       "6      85000\n",
       "7      65000\n",
       "8      95000\n",
       "9     195000\n",
       "10    103000\n",
       "11     90000\n",
       "12    115000\n",
       "13    170000\n",
       "14    130000\n",
       "15     70000\n",
       "16    118000\n",
       "17     95000\n",
       "18    195000\n",
       "19    100000\n",
       "20     75000\n",
       "21     90000\n",
       "22    182000\n",
       "23    110000\n",
       "24     98000\n",
       "25     90000\n",
       "26    165000\n",
       "Name: prezzo, dtype: int64"
      ]
     },
     "execution_count": 11,
     "metadata": {},
     "output_type": "execute_result"
    }
   ],
   "source": [
    "y"
   ]
  },
  {
   "cell_type": "code",
   "execution_count": 66,
   "metadata": {},
   "outputs": [],
   "source": [
    "X_train,X_test,y_train,y_test = train_test_split(X,y,test_size=0.25)\n"
   ]
  },
  {
   "cell_type": "markdown",
   "metadata": {},
   "source": [
    "# inizio modello train (addestramento)"
   ]
  },
  {
   "cell_type": "code",
   "execution_count": 67,
   "metadata": {},
   "outputs": [
    {
     "data": {
      "text/plain": [
       "LinearRegression(copy_X=True, fit_intercept=True, n_jobs=None, normalize=False)"
      ]
     },
     "execution_count": 67,
     "metadata": {},
     "output_type": "execute_result"
    }
   ],
   "source": [
    "modello = LinearRegression()\n",
    "modello.fit(X_train, y_train)"
   ]
  },
  {
   "cell_type": "markdown",
   "metadata": {},
   "source": [
    "# intercetta: b0"
   ]
  },
  {
   "cell_type": "code",
   "execution_count": 68,
   "metadata": {},
   "outputs": [
    {
     "name": "stdout",
     "output_type": "stream",
     "text": [
      "intercetta -1563870.7685386045\n"
     ]
    }
   ],
   "source": [
    "print('intercetta', modello.intercept_)"
   ]
  },
  {
   "cell_type": "code",
   "execution_count": 69,
   "metadata": {},
   "outputs": [],
   "source": [
    "coefficienti = pd.DataFrame(modello.coef_, X.columns, columns = ['coefficienti'])"
   ]
  },
  {
   "cell_type": "markdown",
   "metadata": {},
   "source": [
    "# coefficienti: b1, b2,....."
   ]
  },
  {
   "cell_type": "code",
   "execution_count": 70,
   "metadata": {},
   "outputs": [
    {
     "name": "stdout",
     "output_type": "stream",
     "text": [
      "               coefficienti\n",
      "zona           -8035.371160\n",
      "mq              1782.390909\n",
      "stanze        -23276.920027\n",
      "annoc            301.260671\n",
      "annor            499.867113\n",
      "mq_g           -2014.981085\n",
      "certifica       1813.096142\n",
      "riscaldamento  15306.779733\n"
     ]
    }
   ],
   "source": [
    "print(coefficienti)"
   ]
  },
  {
   "cell_type": "code",
   "execution_count": 71,
   "metadata": {},
   "outputs": [],
   "source": [
    "y_calcolati = modello.predict(X)"
   ]
  },
  {
   "cell_type": "markdown",
   "metadata": {},
   "source": [
    "# R^2"
   ]
  },
  {
   "cell_type": "code",
   "execution_count": 72,
   "metadata": {},
   "outputs": [
    {
     "name": "stdout",
     "output_type": "stream",
     "text": [
      "R2 0.8825706233693729\n"
     ]
    }
   ],
   "source": [
    "print('R2', metrics.r2_score(y, y_calcolati))"
   ]
  },
  {
   "cell_type": "code",
   "execution_count": 73,
   "metadata": {},
   "outputs": [
    {
     "name": "stdout",
     "output_type": "stream",
     "text": [
      "c1=  -8035.371160083448\n",
      "c2=  1782.390908672525\n",
      "c3=  -23276.920027136854\n",
      "c4=  301.2606710721785\n",
      "c5=  499.86711295184773\n",
      "c6=  -2014.9810852686296\n",
      "c7=  1813.0961418949223\n",
      "c8=  15306.779733070158\n"
     ]
    }
   ],
   "source": [
    "for r in range(0,8):\n",
    "    if r==0:\n",
    "        c1=coefficienti.iloc[r,0]\n",
    "    elif r==1:\n",
    "        c2=coefficienti.iloc[r,0]\n",
    "    elif r==2:\n",
    "        c3=coefficienti.iloc[r,0]\n",
    "    elif r==3:\n",
    "        c4=coefficienti.iloc[r,0]\n",
    "    elif r==4:\n",
    "        c5=coefficienti.iloc[r,0]        \n",
    "    elif r==5:\n",
    "        c6=coefficienti.iloc[r,0]   \n",
    "    elif r==6:\n",
    "        c7=coefficienti.iloc[r,0]    \n",
    "    elif r==7:\n",
    "        c8=coefficienti.iloc[r,0]            \n",
    "print(\"c1= \",c1)\n",
    "print(\"c2= \",c2)\n",
    "print(\"c3= \",c3)\n",
    "print(\"c4= \",c4)\n",
    "print(\"c5= \",c5)\n",
    "print(\"c6= \",c6)\n",
    "print(\"c7= \",c7)\n",
    "print(\"c8= \",c8)"
   ]
  },
  {
   "cell_type": "code",
   "execution_count": 74,
   "metadata": {},
   "outputs": [
    {
     "name": "stdout",
     "output_type": "stream",
     "text": [
      "D A T I   I M M O B I L E\n",
      "vuoi inserire i dati? \n"
     ]
    }
   ],
   "source": [
    "print(\"D A T I   I M M O B I L E\")\n",
    "continua = True\n",
    "while continua:\n",
    "    domanda=input('vuoi inserire i dati? ')\n",
    "    if domanda.upper()=='SI':\n",
    "        print(\"\")\n",
    "        zona=         int(input(\"             zona  \"))\n",
    "        mq=           int(input(\"      metri quadri \"))\n",
    "        stanze=       int(input(\"            stanze \"))\n",
    "        annoc =       int(input(\"  anno di costruz. \"))               \n",
    "        annor =       int(input(\" anno di ristrutt. \"))   \n",
    "        mq_g =        int(input(\"         mq garage \"))   \n",
    "        certifica=    int(input(\"    certificazione \")) \n",
    "        riscaldamento=int(input(\"      riscaldamento\")) \n",
    "      \n",
    "        print(\"\")\n",
    "        prezzo=regressore.intercept_+c1*zona+c2*mq+c3*stanze+c4*annoc+c5*annor+c6*mq_g+c7*certifica+c8*riscaldamento\n",
    "        print(\"prezzo predetto\",prezzo)\n",
    "    else:\n",
    "        break"
   ]
  },
  {
   "cell_type": "markdown",
   "metadata": {},
   "source": [
    "# X['mq'] = vettore colonna 'mq' della matrice X\n",
    "\n",
    "# Y = vettore colonna"
   ]
  },
  {
   "cell_type": "markdown",
   "metadata": {},
   "source": [
    "# vedo come sono distribuiti zona, mq,... ossia le colonne di X\n",
    "\n",
    "# ad esempio, i mq considerati vanno da 80 a 150"
   ]
  },
  {
   "cell_type": "code",
   "execution_count": 75,
   "metadata": {},
   "outputs": [
    {
     "data": {
      "image/png": "[encoded data removed]",
      "text/plain": [
       "<Figure size 720x720 with 1 Axes>"
      ]
     },
     "metadata": {
      "needs_background": "light"
     },
     "output_type": "display_data"
    }
   ],
   "source": [
    "plt.figure(figsize=(10,10))\n",
    "sns.boxplot(data=X) \n",
    "plt.show()"
   ]
  },
  {
   "cell_type": "markdown",
   "metadata": {},
   "source": [
    "#  altro metodo di regressione lineare"
   ]
  },
  {
   "cell_type": "code",
   "execution_count": 76,
   "metadata": {},
   "outputs": [
    {
     "data": {
      "image/png": "[encoded data removed]",
      "text/plain": [
       "<Figure size 504x432 with 1 Axes>"
      ]
     },
     "metadata": {
      "needs_background": "light"
     },
     "output_type": "display_data"
    }
   ],
   "source": [
    "X_train,X_test,y_train,y_test=train_test_split(X,y,test_size=0.25)\n",
    "regressore=LinearRegression()\n",
    "regressore.fit(X_train, y_train)\n",
    "y_pred=regressore.predict(X_test)\n",
    "\n",
    "plt.figure(figsize=(7,6))\n",
    "plt.scatter(y_pred,y_test)\n",
    "plt.plot(y_pred,y_pred,color=\"red\")\n",
    "plt.show()\n"
   ]
  },
  {
   "cell_type": "markdown",
   "metadata": {},
   "source": [
    "# devo avere più informazioni con prezzi intorno a 140.000"
   ]
  },
  {
   "cell_type": "code",
   "execution_count": null,
   "metadata": {},
   "outputs": [],
   "source": []
  },
  {
   "cell_type": "markdown",
   "metadata": {},
   "source": [
    "# inizio modello test"
   ]
  },
  {
   "cell_type": "code",
   "execution_count": 77,
   "metadata": {},
   "outputs": [
    {
     "data": {
      "text/plain": [
       "LinearRegression(copy_X=True, fit_intercept=True, n_jobs=None, normalize=False)"
      ]
     },
     "execution_count": 77,
     "metadata": {},
     "output_type": "execute_result"
    }
   ],
   "source": [
    "modello = LinearRegression()\n",
    "modello.fit(X_test, y_test)"
   ]
  },
  {
   "cell_type": "markdown",
   "metadata": {},
   "source": [
    "# intercetta: b0"
   ]
  },
  {
   "cell_type": "code",
   "execution_count": 78,
   "metadata": {},
   "outputs": [
    {
     "name": "stdout",
     "output_type": "stream",
     "text": [
      "intercetta -5308261.981092854\n"
     ]
    }
   ],
   "source": [
    "print('intercetta', modello.intercept_)"
   ]
  },
  {
   "cell_type": "code",
   "execution_count": 79,
   "metadata": {},
   "outputs": [],
   "source": [
    "coefficienti = pd.DataFrame(modello.coef_, X.columns, columns = ['coefficienti'])"
   ]
  },
  {
   "cell_type": "markdown",
   "metadata": {},
   "source": [
    "# coefficienti: b1, b2,....."
   ]
  },
  {
   "cell_type": "code",
   "execution_count": 80,
   "metadata": {},
   "outputs": [
    {
     "name": "stdout",
     "output_type": "stream",
     "text": [
      "               coefficienti\n",
      "zona           -8475.501202\n",
      "mq              1652.581837\n",
      "stanze          1699.060385\n",
      "annoc           1800.747983\n",
      "annor            923.516134\n",
      "mq_g           -6166.020714\n",
      "certifica     -15911.172977\n",
      "riscaldamento    850.581607\n"
     ]
    }
   ],
   "source": [
    "print(coefficienti)"
   ]
  },
  {
   "cell_type": "code",
   "execution_count": 81,
   "metadata": {},
   "outputs": [],
   "source": [
    "y_calcolati = modello.predict(X)"
   ]
  },
  {
   "cell_type": "markdown",
   "metadata": {},
   "source": [
    "# R^2"
   ]
  },
  {
   "cell_type": "code",
   "execution_count": 82,
   "metadata": {},
   "outputs": [
    {
     "name": "stdout",
     "output_type": "stream",
     "text": [
      "R2 -0.04879397212399361\n"
     ]
    }
   ],
   "source": [
    "print('R2', metrics.r2_score(y, y_calcolati))"
   ]
  },
  {
   "cell_type": "code",
   "execution_count": 65,
   "metadata": {},
   "outputs": [
    {
     "data": {
      "image/png": "[encoded data removed]",
      "text/plain": [
       "<Figure size 504x432 with 1 Axes>"
      ]
     },
     "metadata": {
      "needs_background": "light"
     },
     "output_type": "display_data"
    }
   ],
   "source": [
    "X_train,X_test,y_train,y_test=train_test_split(X,y,test_size=0.25)\n",
    "regressore=LinearRegression()\n",
    "regressore.fit(X_train, y_train)\n",
    "y_pred=regressore.predict(X_test)\n",
    "\n",
    "plt.figure(figsize=(7,6))\n",
    "plt.scatter(y_pred,y_test)\n",
    "plt.plot(y_pred,y_pred,color=\"red\")\n",
    "plt.show()"
   ]
  },
  {
   "cell_type": "code",
   "execution_count": null,
   "metadata": {},
   "outputs": [],
   "source": []
  }
 ],
 "metadata": {
  "kernelspec": {
   "display_name": "Python 3",
   "language": "python",
   "name": "python3"
  },
  "language_info": {
   "codemirror_mode": {
    "name": "ipython",
    "version": 3
   },
   "file_extension": ".py",
   "mimetype": "text/x-python",
   "name": "python",
   "nbconvert_exporter": "python",
   "pygments_lexer": "ipython3",
   "version": "3.7.4"
  }
 },
 "nbformat": 4,
 "nbformat_minor": 2
}
