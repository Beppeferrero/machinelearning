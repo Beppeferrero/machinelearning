{
 "cells": [
  {
   "cell_type": "code",
   "execution_count": 3,
   "metadata": {},
   "outputs": [
    {
     "name": "stdout",
     "output_type": "stream",
     "text": [
      "0.9948810395573594\n"
     ]
    }
   ],
   "source": [
    "#######   TALARICO  ##########\n",
    "\n",
    "import math as mt\n",
    "import random as rd\n",
    "\n",
    "# metto il seed a 1 così ad ogni inizializzazione del \n",
    "# programma ho la stessa serie di numeri casuali\n",
    "rd.seed(1) \n",
    "\n",
    "# Definisco gli input x1 e x2 della rete\n",
    "def RN(x1, x2):\n",
    "    t = x1*w1 + x2*w2 + b\n",
    "    return sigmoide(t)\n",
    "\n",
    "# Definisco anche la funzione sigmoide\n",
    "# dove mt --> istanza del modulo\n",
    "def sigmoide(t):\n",
    "    return 1 / (1 + mt.exp(-t))\n",
    "\n",
    "# Definisco pesi e bias random\n",
    "# con rd --> istanza del modulo \n",
    "w1 = rd.random()\n",
    "w2 = rd.random()\n",
    "b = rd.random()\n",
    "\n",
    "# Mettiamo 2 valori di input 2 e 50\n",
    "previsione = RN(2, 5.0)\n",
    "print(previsione)"
   ]
  },
  {
   "cell_type": "code",
   "execution_count": 4,
   "metadata": {},
   "outputs": [
    {
     "name": "stdout",
     "output_type": "stream",
     "text": [
      "0.9996312743801529\n"
     ]
    }
   ],
   "source": [
    "previsione = RN(9, 7.0)\n",
    "print(previsione)"
   ]
  },
  {
   "cell_type": "code",
   "execution_count": 5,
   "metadata": {},
   "outputs": [
    {
     "name": "stdout",
     "output_type": "stream",
     "text": [
      "8.430992857018705e-07\n"
     ]
    }
   ],
   "source": [
    "# Scriviamo il dataset di 10 gatti come array di array\n",
    "# con i valori che riportano peso, lunghezza e tipo\n",
    "dataset = [[9,7.0,0],[2,5.0,1],[3.2,4.94,1],[9.1,7.46,0],[1.6,4.83,1],[8.4,7.46,0],[8,7.28,0],[3.1,4.58,1],[6.3,9.14,0],[3.4,5.36,1]]\n",
    "\n",
    "# Definiamo la derivata della funzione sigmoide\n",
    "def sigmoide_p(t):\n",
    "    return sigmoide(t) * (1 - sigmoide(t))\n",
    "\n",
    "def train():\n",
    "    \n",
    "    w1 = rd.random()\n",
    "    w2 = rd.random()\n",
    "    b = rd.random()\n",
    "\n",
    "# Definiamo le iterazioni ovvero il numero di volte che \n",
    "# verranno aggiornati i valori di pesi e bias\n",
    "    iterazioni = 10000\n",
    "\n",
    "# Definiamo anche il Learning Rate (LR) dandogli un valore\n",
    "# nè troppo alto nè troppo basso\n",
    "    learning_rate = 0.1\n",
    "\n",
    "# All'interno di un ciclo for generiamo un indice casuale\n",
    "# che può essere un numero intero tra 0 ed il numero dei gatti nel dataset\n",
    "# len(dataset) restituisce la lunghezza dell'array (10) \n",
    "# ma python inizia la numerazione da 0 (1o gatto) e l'ultimo 9,\n",
    "# per cui è stato aggiunto il -1\n",
    "    for i in range(iterazioni):\n",
    "    \n",
    "        ri = rd.randint(0,len(dataset) - 1)\n",
    "        point = dataset[ri]\n",
    "    \n",
    "        z = point[0] * w1 + point[1] * w2 + b\n",
    "    \n",
    "# prendiamo un gatto casuale del dataset usando l'indice casuale appena creato\n",
    "# e facciamo la previsione usando come input i valori di peso e lunghezza del gatto casuale\n",
    "\n",
    "# assegnamo al target il valore obiettivo, ovvero il tipo di gatto da prevedere\n",
    "\n",
    "        pred = sigmoide(z)\n",
    "        target = point[2]\n",
    "\n",
    "        cost = (pred - target)**2\n",
    "\n",
    "# calcoliamo tutte le derivate parziali \n",
    "        dcost_dpred = 2 * (pred - target)\n",
    "        dpred_dz = sigmoide_p(z)\n",
    "        dz_dw1 = point[0]\n",
    "        dz_dw2 = point[1]\n",
    "        dz_db = 1\n",
    "\n",
    "        dcost_dz = dcost_dpred * dpred_dz\n",
    "\n",
    "# Calcoliamo la derivata del costo rispetto a w1, rispetto a w2 e rispetto al bias\n",
    "        dcost_dw1 = dcost_dz * dz_dw1\n",
    "        dcost_dw2 = dcost_dz * dz_dw2\n",
    "        dcost_db = dcost_dz * dz_db\n",
    "\n",
    "# Ora aggiorniamo tutti i valori dei pesi e del bias usando il LR definito prima\n",
    "        w1 = w1 - learning_rate * dcost_dw1\n",
    "        w2 = w2 - learning_rate * dcost_dw2\n",
    "        b = b - learning_rate * dcost_db\n",
    "\n",
    "# Una volta chiamata la funzione train, questa serie di operazioni all'interno del ciclo\n",
    "# verrà eseguita 10000 volte, dopodichè la funzione ritornerà ai valori di pesi e bias aggiornati\n",
    "\n",
    "    return w1, w2, b\n",
    "\n",
    "# Ora non ci resta che caricare i valori di pesi e bias chiamando la funzione appena definita\n",
    "w1, w2, b = train()\n",
    "\n",
    "previsione = RN(9, 7.0)\n",
    "print(previsione)\n"
   ]
  },
  {
   "cell_type": "markdown",
   "metadata": {},
   "source": [
    "Quindi praticamente 0 !!"
   ]
  },
  {
   "cell_type": "code",
   "execution_count": 6,
   "metadata": {},
   "outputs": [
    {
     "name": "stdout",
     "output_type": "stream",
     "text": [
      "0.9986044098643749\n"
     ]
    }
   ],
   "source": [
    "previsione = RN(2, 5.0)\n",
    "print(previsione)\n"
   ]
  },
  {
   "cell_type": "markdown",
   "metadata": {},
   "source": [
    "Quindi praticamente 1 !!"
   ]
  },
  {
   "cell_type": "code",
   "execution_count": 7,
   "metadata": {},
   "outputs": [
    {
     "name": "stdout",
     "output_type": "stream",
     "text": [
      "['GIUNGLA', 'SABBIE', 'SABBIE', 'GIUNGLA', 'SABBIE', 'GIUNGLA', 'GIUNGLA', 'SABBIE', 'GIUNGLA', 'SABBIE']\n"
     ]
    }
   ],
   "source": [
    "# Per verificare in modo più veloce che tutte le previsioni siano corrette\n",
    "# si controlla un gatto per volta e se la previsione è < 0.5 allora appende la stringa \n",
    "# GIUNGLA all'array pred (che contiene le previsioni) altrimenti ...aggiunge SABBIE\n",
    "\n",
    "pred = []\n",
    "for gatto in dataset:\n",
    "    z = w1 * gatto[0] + w2 * gatto[1] + b\n",
    "    prediction = sigmoide(z)\n",
    "    if prediction <= 0.5:\n",
    "        pred.append('GIUNGLA')\n",
    "    else:\n",
    "        pred.append('SABBIE')\n",
    "print(pred)"
   ]
  },
  {
   "cell_type": "code",
   "execution_count": null,
   "metadata": {},
   "outputs": [],
   "source": [
    "# Consideriamo il valore del costo all'aumentare del numero di iterazioni\n",
    "# Con LR = 0.1 diminuisce rapidamente poi dopo poche oscillazioni tende a 0\n",
    "# Con LR = 0.01 il costo converge a 0 troppo lentamente\n",
    "# Con LR = 1 il costo non si avvicina mai a 0"
   ]
  }
 ],
 "metadata": {
  "kernelspec": {
   "display_name": "Python 3",
   "language": "python",
   "name": "python3"
  },
  "language_info": {
   "codemirror_mode": {
    "name": "ipython",
    "version": 3
   },
   "file_extension": ".py",
   "mimetype": "text/x-python",
   "name": "python",
   "nbconvert_exporter": "python",
   "pygments_lexer": "ipython3",
   "version": "3.6.8"
  }
 },
 "nbformat": 4,
 "nbformat_minor": 2
}
